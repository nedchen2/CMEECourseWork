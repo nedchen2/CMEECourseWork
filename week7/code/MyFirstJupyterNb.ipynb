{
 "cells": [
  {
   "cell_type": "code",
   "execution_count": 1,
   "id": "b1ecfd0f",
   "metadata": {},
   "outputs": [],
   "source": [
    "import re"
   ]
  },
  {
   "cell_type": "code",
   "execution_count": 4,
   "id": "f00d1146",
   "metadata": {},
   "outputs": [
    {
     "data": {
      "text/plain": [
       "\"Taxonomic Hierarchy\\n \\t \\t \\t \\n \\tKingdom\\tAnimalia  – Animal, animaux, animals\\t \\n \\t   Phylum\\tChordata  – cordés, cordado, chordates\\t \\n \\t      Subphylum\\tVertebrata  – vertebrado, vertébrés, vertebrates\\t \\n \\t         Class\\tAves  – Birds, oiseaux\\t \\n \\t            Order\\tPasseriformes  – Perching Birds, passereaux\\t \\n \\t               Family\\tIcteridae  – American Blackbirds, Orioles, New World Blackbirds\\t \\n \\t                  Genus\\tEuphagus Cassin, 1867 – American Blackbirds\\t \\n \\t                     Species\\tEuphagus carolinus (Statius Muller, 1776) – Tordo canadiense, Rusty Blackbird, quiscale rouilleux\\t \\n \\t                        Subspecies\\tEuphagus carolinus carolinus (Statius Muller, 1776)\\n \\t                        \\n\\t \\t \\t \\n \\tKingdom\\tAnimalia  – Animal, animaux, animals\\t \\n \\t   Phylum\\tChordata  – cordés, cordado, chordates\\t \\n \\t      Subphylum\\tVertebrata  – vertebrado, vertébrés, vertebrates\\t \\n \\t         Class\\tAves  – Birds, oiseaux\\t \\n \\t            Order\\tPasseriformes  – Perching Birds, passereaux\\t \\n \\t               Family\\tIcteridae  – American Blackbirds, Orioles, New World Blackbirds\\t \\n \\t                  Genus\\tEuphagus Cassin, 1867 – American Blackbirds\\t \\n \\t                     Species\\tEuphagus cyanocephalus (Wagler, 1829) – Brewer's Blackbird, quiscale de Brewer, Tordo ojo amarillo\\t \\n \\t \\t \\t\\n \\t \\t \\t\\n \\t Kingdom\\tAnimalia  – Animal, animaux, animals\\t \\n \\t   Phylum\\tChordata  – cordés, cordado, chordates\\t \\n \\t      Subphylum\\tVertebrata  – vertebrado, vertébrés, vertebrates\\t \\n \\t         Class\\tAves  – Birds, oiseaux\\t \\n \\t            Order\\tPasseriformes  – Perching Birds, passereaux\\t \\n \\t               Family\\tTurdidae \\t \\n \\t                  Genus\\tTurdus Linnaeus, 1758 – Robins\\t \\n \\t                     Species\\tTurdus boulboul (Latham, 1790) – Grey-winged Blackbird\\n \\t                     \\nKingdom\\tAnimalia  – Animal, animaux, animals\\t \\n \\t   Phylum\\tChordata  – cordés, cordado, chordates\\t \\n \\t      Subphylum\\tVertebrata  – vertebrado, vertébrés, vertebrates\\t \\n \\t         Class\\tAves  – Birds, oiseaux\\t \\n \\t            Order\\tPasseriformes  – Perching Birds, passereaux\\t \\n \\t               Family\\tIcteridae  – American Blackbirds, Orioles, New World Blackbirds\\t \\n \\t                  Genus\\tAgelaius Vieillot, 1816 – Red-winged Blackbirds\\t \\n \\t                     Species\\tAgelaius assimilis (Lembeye, 1850) – Red-shouldered Blackbird\\t \\n \\t \\tDirect Children:\\t \\n \\t                        Subspecies\\t Agelaius assimilis assimilis Lembeye, 1850\\t \\n \\t                        Subspecies\\t Agelaius assimilis subniger Bangs, 1913\\n\""
      ]
     },
     "execution_count": 4,
     "metadata": {},
     "output_type": "execute_result"
    }
   ],
   "source": [
    "# Read the file (using a different, more python 3 way, just for fun!)\n",
    "with open('../data/blackbirds.txt', 'r') as f:\n",
    "    text = f.read()\n",
    "text"
   ]
  },
  {
   "cell_type": "code",
   "execution_count": 6,
   "id": "a2135152",
   "metadata": {
    "lines_to_next_cell": 2
   },
   "outputs": [
    {
     "data": {
      "text/plain": [
       "\"Taxonomic Hierarchy           Kingdom Animalia  – Animal, animaux, animals        Phylum Chordata  – cordés, cordado, chordates           Subphylum Vertebrata  – vertebrado, vertébrés, vertebrates              Class Aves  – Birds, oiseaux                 Order Passeriformes  – Perching Birds, passereaux                    Family Icteridae  – American Blackbirds, Orioles, New World Blackbirds                       Genus Euphagus Cassin, 1867 – American Blackbirds                          Species Euphagus carolinus (Statius Muller, 1776) – Tordo canadiense, Rusty Blackbird, quiscale rouilleux                             Subspecies Euphagus carolinus carolinus (Statius Muller, 1776)                                     Kingdom Animalia  – Animal, animaux, animals        Phylum Chordata  – cordés, cordado, chordates           Subphylum Vertebrata  – vertebrado, vertébrés, vertebrates              Class Aves  – Birds, oiseaux                 Order Passeriformes  – Perching Birds, passereaux                    Family Icteridae  – American Blackbirds, Orioles, New World Blackbirds                       Genus Euphagus Cassin, 1867 – American Blackbirds                          Species Euphagus cyanocephalus (Wagler, 1829) – Brewer's Blackbird, quiscale de Brewer, Tordo ojo amarillo                    Kingdom Animalia  – Animal, animaux, animals        Phylum Chordata  – cordés, cordado, chordates           Subphylum Vertebrata  – vertebrado, vertébrés, vertebrates              Class Aves  – Birds, oiseaux                 Order Passeriformes  – Perching Birds, passereaux                    Family Turdidae                        Genus Turdus Linnaeus, 1758 – Robins                          Species Turdus boulboul (Latham, 1790) – Grey-winged Blackbird                         Kingdom Animalia  – Animal, animaux, animals        Phylum Chordata  – cordés, cordado, chordates           Subphylum Vertebrata  – vertebrado, vertébrés, vertebrates              Class Aves  – Birds, oiseaux                 Order Passeriformes  – Perching Birds, passereaux                    Family Icteridae  – American Blackbirds, Orioles, New World Blackbirds                       Genus Agelaius Vieillot, 1816 – Red-winged Blackbirds                          Species Agelaius assimilis (Lembeye, 1850) – Red-shouldered Blackbird       Direct Children:                             Subspecies  Agelaius assimilis assimilis Lembeye, 1850                             Subspecies  Agelaius assimilis subniger Bangs, 1913 \""
      ]
     },
     "execution_count": 6,
     "metadata": {},
     "output_type": "execute_result"
    }
   ],
   "source": [
    "# replace \\t's and \\n's with a spaces:\n",
    "text = text.replace('\\t',' ')\n",
    "text = text.replace('\\n',' ')\n",
    "# You may want to make other changes to the text. \n",
    "text"
   ]
  },
  {
   "cell_type": "markdown",
   "id": "5743540e",
   "metadata": {},
   "source": [
    "In particular, note that there are \"strange characters\" (these are accents and\n",
    "non-ascii symbols) because we don't care for them, first transform to ASCII:"
   ]
  },
  {
   "cell_type": "code",
   "execution_count": 8,
   "id": "180f5605",
   "metadata": {},
   "outputs": [
    {
     "data": {
      "text/plain": [
       "\"Taxonomic Hierarchy           Kingdom Animalia   Animal, animaux, animals        Phylum Chordata   cords, cordado, chordates           Subphylum Vertebrata   vertebrado, vertbrs, vertebrates              Class Aves   Birds, oiseaux                 Order Passeriformes   Perching Birds, passereaux                    Family Icteridae   American Blackbirds, Orioles, New World Blackbirds                       Genus Euphagus Cassin, 1867  American Blackbirds                          Species Euphagus carolinus (Statius Muller, 1776)  Tordo canadiense, Rusty Blackbird, quiscale rouilleux                             Subspecies Euphagus carolinus carolinus (Statius Muller, 1776)                                     Kingdom Animalia   Animal, animaux, animals        Phylum Chordata   cords, cordado, chordates           Subphylum Vertebrata   vertebrado, vertbrs, vertebrates              Class Aves   Birds, oiseaux                 Order Passeriformes   Perching Birds, passereaux                    Family Icteridae   American Blackbirds, Orioles, New World Blackbirds                       Genus Euphagus Cassin, 1867  American Blackbirds                          Species Euphagus cyanocephalus (Wagler, 1829)  Brewer's Blackbird, quiscale de Brewer, Tordo ojo amarillo                    Kingdom Animalia   Animal, animaux, animals        Phylum Chordata   cords, cordado, chordates           Subphylum Vertebrata   vertebrado, vertbrs, vertebrates              Class Aves   Birds, oiseaux                 Order Passeriformes   Perching Birds, passereaux                    Family Turdidae                        Genus Turdus Linnaeus, 1758  Robins                          Species Turdus boulboul (Latham, 1790)  Grey-winged Blackbird                         Kingdom Animalia   Animal, animaux, animals        Phylum Chordata   cords, cordado, chordates           Subphylum Vertebrata   vertebrado, vertbrs, vertebrates              Class Aves   Birds, oiseaux                 Order Passeriformes   Perching Birds, passereaux                    Family Icteridae   American Blackbirds, Orioles, New World Blackbirds                       Genus Agelaius Vieillot, 1816  Red-winged Blackbirds                          Species Agelaius assimilis (Lembeye, 1850)  Red-shouldered Blackbird       Direct Children:                             Subspecies  Agelaius assimilis assimilis Lembeye, 1850                             Subspecies  Agelaius assimilis subniger Bangs, 1913 \""
      ]
     },
     "execution_count": 8,
     "metadata": {},
     "output_type": "execute_result"
    }
   ],
   "source": [
    "text = text.encode('ascii', 'ignore') # first encode into ascii bytes\n",
    "text = text.decode('ascii', 'ignore') # Now decode back to string\n",
    "text"
   ]
  },
  {
   "cell_type": "markdown",
   "id": "6eac0dbf",
   "metadata": {},
   "source": [
    "Now extend this script so that it captures the Kingdom, Phylum and Species\n",
    "name for each species and prints it out to screen neatly."
   ]
  },
  {
   "cell_type": "markdown",
   "id": "cf71d4b0",
   "metadata": {},
   "source": [
    "Hint: you may want to use re.findall(my_reg, text)... Keep in mind that there\n",
    "are multiple ways to skin this cat! Your solution could involve multiple\n",
    "regular expression calls (slightly easier!), or a single one (slightly harder!)\n",
    "Here are some example outputs of possible solutions (These are not the only two ways to do this!): \n",
    "\n",
    "Solution 1:"
   ]
  },
  {
   "cell_type": "code",
   "execution_count": 12,
   "id": "9f2c1c71",
   "metadata": {},
   "outputs": [
    {
     "data": {
      "text/plain": [
       "[(\"Kingdom Animalia   Animal, animaux, animals        Phylum Chordata   cords, cordado, chordates           Subphylum Vertebrata   vertebrado, vertbrs, vertebrates              Class Aves   Birds, oiseaux                 Order Passeriformes   Perching Birds, passereaux                    Family Icteridae   American Blackbirds, Orioles, New World Blackbirds                       Genus Euphagus Cassin, 1867  American Blackbirds                          Species Euphagus carolinus (Statius Muller, 1776)  Tordo canadiense, Rusty Blackbird, quiscale rouilleux                             Subspecies Euphagus carolinus carolinus (Statius Muller, 1776)                                     Kingdom Animalia   Animal, animaux, animals        Phylum Chordata   cords, cordado, chordates           Subphylum Vertebrata   vertebrado, vertbrs, vertebrates              Class Aves   Birds, oiseaux                 Order Passeriformes   Perching Birds, passereaux                    Family Icteridae   American Blackbirds, Orioles, New World Blackbirds                       Genus Euphagus Cassin, 1867  American Blackbirds                          Species Euphagus cyanocephalus (Wagler, 1829)  Brewer's Blackbird, quiscale de Brewer, Tordo ojo amarillo                    Kingdom Animalia   Animal, animaux, animals        Phylum Chordata   cords, cordado, chordates           Subphylum Vertebrata   vertebrado, vertbrs, vertebrates              Class Aves   Birds, oiseaux                 Order Passeriformes   Perching Birds, passereaux                    Family Turdidae                        Genus Turdus Linnaeus, 1758  Robins                          Species Turdus boulboul (Latham, 1790)  Grey-winged Blackbird                         Kingdom Animalia   Animal, animaux, animals        \",\n",
       "  \"Animalia   Animal, animaux, animals        Phylum Chordata   cords, cordado, chordates           Subphylum Vertebrata   vertebrado, vertbrs, vertebrates              Class Aves   Birds, oiseaux                 Order Passeriformes   Perching Birds, passereaux                    Family Icteridae   American Blackbirds, Orioles, New World Blackbirds                       Genus Euphagus Cassin, 1867  American Blackbirds                          Species Euphagus carolinus (Statius Muller, 1776)  Tordo canadiense, Rusty Blackbird, quiscale rouilleux                             Subspecies Euphagus carolinus carolinus (Statius Muller, 1776)                                     Kingdom Animalia   Animal, animaux, animals        Phylum Chordata   cords, cordado, chordates           Subphylum Vertebrata   vertebrado, vertbrs, vertebrates              Class Aves   Birds, oiseaux                 Order Passeriformes   Perching Birds, passereaux                    Family Icteridae   American Blackbirds, Orioles, New World Blackbirds                       Genus Euphagus Cassin, 1867  American Blackbirds                          Species Euphagus cyanocephalus (Wagler, 1829)  Brewer's Blackbird, quiscale de Brewer, Tordo ojo amarillo                    Kingdom Animalia   Animal, animaux, animals        Phylum Chordata   cords, cordado, chordates           Subphylum Vertebrata   vertebrado, vertbrs, vertebrates              Class Aves   Birds, oiseaux                 Order Passeriformes   Perching Birds, passereaux                    Family Turdidae                        Genus Turdus Linnaeus, 1758  Robins                          Species Turdus boulboul (Latham, 1790)  Grey-winged Blackbird                         Kingdom Animalia   Animal, animaux, animals       \",\n",
       "  'Phylum Chordata   cords, cordado, chordates           Subphylum Vertebrata   vertebrado, vertbrs, vertebrates              Class Aves   Birds, oiseaux                 Order Passeriformes   Perching Birds, passereaux                    Family Icteridae   American Blackbirds, Orioles, New World Blackbirds                       Genus Agelaius Vieillot, 1816  Red-winged Blackbirds                          ',\n",
       "  'Chordata   cords, cordado, chordates           Subphylum Vertebrata   vertebrado, vertbrs, vertebrates              Class Aves   Birds, oiseaux                 Order Passeriformes   Perching Birds, passereaux                    Family Icteridae   American Blackbirds, Orioles, New World Blackbirds                       Genus Agelaius Vieillot, 1816  Red-winged Blackbirds                         ',\n",
       "  'Species Agelaius assimilis (',\n",
       "  'Agelaius assimilis')]"
      ]
     },
     "execution_count": 12,
     "metadata": {},
     "output_type": "execute_result"
    }
   ],
   "source": [
    "re.findall(r'(Kingdom\\s(.+)\\s).*(Phylum\\s(.*)\\s).*(Species\\s(.*)\\s\\()', text) "
   ]
  },
  {
   "cell_type": "code",
   "execution_count": null,
   "id": "428cc52c",
   "metadata": {},
   "outputs": [],
   "source": []
  },
  {
   "cell_type": "code",
   "execution_count": null,
   "id": "df796a9c",
   "metadata": {},
   "outputs": [],
   "source": []
  },
  {
   "cell_type": "markdown",
   "id": "2a8ca766",
   "metadata": {},
   "source": [
    "## good"
   ]
  },
  {
   "cell_type": "code",
   "execution_count": null,
   "id": "09ce52e6",
   "metadata": {},
   "outputs": [],
   "source": []
  },
  {
   "cell_type": "code",
   "execution_count": 13,
   "id": "06b35c32",
   "metadata": {},
   "outputs": [
    {
     "data": {
      "text/plain": [
       "['Euphagus carolinus',\n",
       " 'Euphagus cyanocephalus',\n",
       " 'Turdus boulboul',\n",
       " 'Agelaius assimilis']"
      ]
     },
     "execution_count": 13,
     "metadata": {},
     "output_type": "execute_result"
    }
   ],
   "source": [
    "re.findall(r'Kingdom\\s(.+?)\\s', text) \n",
    "re.findall(r'Phylum\\s(.*?)\\s', text) \n",
    "re.findall(r'Species\\s(.*?)\\s\\(', text)"
   ]
  },
  {
   "cell_type": "markdown",
   "id": "5b54b1f2",
   "metadata": {},
   "source": [
    "['Animalia', 'Chordata ', 'Euphagus carolinus']\n",
    "['Animalia', 'Chordata ', 'Euphagus cyanocephalus']\n",
    "['Animalia', 'Chordata ', 'Turdus boulboul']\n",
    "['Animalia', 'Chordata ', 'Agelaius assimilis']\n",
    "\n",
    "===============\n",
    "\n",
    "Solution 2:\n",
    "\n",
    " [('Animalia', 'Chordata', 'Euphagus carolinus'), ('Animalia', 'Chordata', 'Euphagus cyanocephalus'), ('Animalia', 'Chordata', 'Turdus boulboul'), ('Animalia', 'Chordata', 'Agelaius assimilis')]\n"
   ]
  }
 ],
 "metadata": {
  "jupytext": {
   "cell_metadata_filter": "-all",
   "main_language": "python",
   "notebook_metadata_filter": "-all",
   "text_representation": {
    "extension": ".py",
    "format_name": "light"
   }
  },
  "kernelspec": {
   "display_name": "Python 3 (ipykernel)",
   "language": "python",
   "name": "python3"
  },
  "language_info": {
   "codemirror_mode": {
    "name": "ipython",
    "version": 3
   },
   "file_extension": ".py",
   "mimetype": "text/x-python",
   "name": "python",
   "nbconvert_exporter": "python",
   "pygments_lexer": "ipython3",
   "version": "3.8.10"
  }
 },
 "nbformat": 4,
 "nbformat_minor": 5
}
